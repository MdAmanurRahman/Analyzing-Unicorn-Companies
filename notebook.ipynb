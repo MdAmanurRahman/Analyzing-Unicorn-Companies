{
 "cells": [
  {
   "cell_type": "markdown",
   "id": "1fe66cd5-4e11-4046-9e68-016430b84ecd",
   "metadata": {},
   "source": [
    "![Hand with calculator](calculator.png \"Calculator\")\n",
    "\n",
    "Did you know that the average return from investing in stocks is 10% per year! But who wants to be average?! \n",
    "\n",
    "You have been asked to support an investment firm by analyzing trends in high-growth companies. They are interested in understanding which industries are producing the highest valuations and the rate at which new high-value companies are emerging. Providing them with this information gives them a competitive insight as to industry trends and how they should structure their portfolio looking forward.\n",
    "\n",
    "You have been given access to their `unicorns` database, which contains the following tables:\n",
    "\n",
    "`dates`\n",
    "| Column       | Description                                  |\n",
    "|------------- |--------------------------------------------- |\n",
    "| company_id   | A unique ID for the company.                 |\n",
    "| date_joined  | The date that the company became a unicorn.  |\n",
    "| year_founded | The year that the company was founded.       |\n",
    "\n",
    "`funding`\n",
    "| Column           | Description                                  |\n",
    "|----------------- |--------------------------------------------- |\n",
    "| company_id       | A unique ID for the company.                 |\n",
    "| valuation        | Company value in US dollars.                 |\n",
    "| funding          | The amount of funding raised in US dollars.  |\n",
    "| select_investors | A list of key investors in the company.      |\n",
    "\n",
    "`industries`\n",
    "| Column       | Description                                  |\n",
    "|------------- |--------------------------------------------- |\n",
    "| company_id   | A unique ID for the company.                 |\n",
    "| industry     | The industry that the company operates in.   |\n",
    "\n",
    "`companies`\n",
    "| Column       | Description                                       |\n",
    "|------------- |-------------------------------------------------- |\n",
    "| company_id   | A unique ID for the company.                      |\n",
    "| company      | The name of the company.                          |\n",
    "| city         | The city where the company is headquartered.      |\n",
    "| country      | The country where the company is headquartered.   |\n",
    "| continent    | The continent where the company is headquartered. |\n"
   ]
  },
  {
   "cell_type": "code",
   "execution_count": 3,
   "id": "ecfbeaf4",
   "metadata": {},
   "outputs": [
    {
     "name": "stdout",
     "output_type": "stream",
     "text": [
      "Requirement already satisfied: ipython-sql in /Users/amanurrahman/opt/anaconda3/lib/python3.9/site-packages (0.5.0)\n",
      "Requirement already satisfied: sqlalchemy>=2.0 in /Users/amanurrahman/opt/anaconda3/lib/python3.9/site-packages (from ipython-sql) (2.0.15)\n",
      "Requirement already satisfied: ipython in /Users/amanurrahman/opt/anaconda3/lib/python3.9/site-packages (from ipython-sql) (8.2.0)\n",
      "Requirement already satisfied: sqlparse in /Users/amanurrahman/opt/anaconda3/lib/python3.9/site-packages (from ipython-sql) (0.4.4)\n",
      "Requirement already satisfied: six in /Users/amanurrahman/opt/anaconda3/lib/python3.9/site-packages (from ipython-sql) (1.16.0)\n",
      "Requirement already satisfied: prettytable in /Users/amanurrahman/opt/anaconda3/lib/python3.9/site-packages (from ipython-sql) (3.7.0)\n",
      "Requirement already satisfied: ipython-genutils in /Users/amanurrahman/opt/anaconda3/lib/python3.9/site-packages (from ipython-sql) (0.2.0)\n",
      "Requirement already satisfied: greenlet!=0.4.17 in /Users/amanurrahman/opt/anaconda3/lib/python3.9/site-packages (from sqlalchemy>=2.0->ipython-sql) (1.1.1)\n",
      "Requirement already satisfied: typing-extensions>=4.2.0 in /Users/amanurrahman/opt/anaconda3/lib/python3.9/site-packages (from sqlalchemy>=2.0->ipython-sql) (4.6.2)\n",
      "Requirement already satisfied: backcall in /Users/amanurrahman/opt/anaconda3/lib/python3.9/site-packages (from ipython->ipython-sql) (0.2.0)\n",
      "Requirement already satisfied: pickleshare in /Users/amanurrahman/opt/anaconda3/lib/python3.9/site-packages (from ipython->ipython-sql) (0.7.5)\n",
      "Requirement already satisfied: setuptools>=18.5 in /Users/amanurrahman/opt/anaconda3/lib/python3.9/site-packages (from ipython->ipython-sql) (61.2.0)\n",
      "Requirement already satisfied: prompt-toolkit!=3.0.0,!=3.0.1,<3.1.0,>=2.0.0 in /Users/amanurrahman/opt/anaconda3/lib/python3.9/site-packages (from ipython->ipython-sql) (3.0.20)\n",
      "Requirement already satisfied: matplotlib-inline in /Users/amanurrahman/opt/anaconda3/lib/python3.9/site-packages (from ipython->ipython-sql) (0.1.2)\n",
      "Requirement already satisfied: decorator in /Users/amanurrahman/opt/anaconda3/lib/python3.9/site-packages (from ipython->ipython-sql) (5.1.1)\n",
      "Requirement already satisfied: traitlets>=5 in /Users/amanurrahman/opt/anaconda3/lib/python3.9/site-packages (from ipython->ipython-sql) (5.1.1)\n",
      "Requirement already satisfied: jedi>=0.16 in /Users/amanurrahman/opt/anaconda3/lib/python3.9/site-packages (from ipython->ipython-sql) (0.18.1)\n",
      "Requirement already satisfied: appnope in /Users/amanurrahman/opt/anaconda3/lib/python3.9/site-packages (from ipython->ipython-sql) (0.1.2)\n",
      "Requirement already satisfied: stack-data in /Users/amanurrahman/opt/anaconda3/lib/python3.9/site-packages (from ipython->ipython-sql) (0.2.0)\n",
      "Requirement already satisfied: pexpect>4.3 in /Users/amanurrahman/opt/anaconda3/lib/python3.9/site-packages (from ipython->ipython-sql) (4.8.0)\n",
      "Requirement already satisfied: pygments>=2.4.0 in /Users/amanurrahman/opt/anaconda3/lib/python3.9/site-packages (from ipython->ipython-sql) (2.11.2)\n",
      "Requirement already satisfied: parso<0.9.0,>=0.8.0 in /Users/amanurrahman/opt/anaconda3/lib/python3.9/site-packages (from jedi>=0.16->ipython->ipython-sql) (0.8.3)\n",
      "Requirement already satisfied: ptyprocess>=0.5 in /Users/amanurrahman/opt/anaconda3/lib/python3.9/site-packages (from pexpect>4.3->ipython->ipython-sql) (0.7.0)\n",
      "Requirement already satisfied: wcwidth in /Users/amanurrahman/opt/anaconda3/lib/python3.9/site-packages (from prompt-toolkit!=3.0.0,!=3.0.1,<3.1.0,>=2.0.0->ipython->ipython-sql) (0.2.5)\n",
      "Requirement already satisfied: executing in /Users/amanurrahman/opt/anaconda3/lib/python3.9/site-packages (from stack-data->ipython->ipython-sql) (0.8.3)\n",
      "Requirement already satisfied: pure-eval in /Users/amanurrahman/opt/anaconda3/lib/python3.9/site-packages (from stack-data->ipython->ipython-sql) (0.2.2)\n",
      "Requirement already satisfied: asttokens in /Users/amanurrahman/opt/anaconda3/lib/python3.9/site-packages (from stack-data->ipython->ipython-sql) (2.0.5)\n"
     ]
    }
   ],
   "source": [
    "!pip install ipython-sql"
   ]
  },
  {
   "cell_type": "code",
   "execution_count": 4,
   "id": "e9be803b",
   "metadata": {},
   "outputs": [
    {
     "name": "stdout",
     "output_type": "stream",
     "text": [
      "Collecting package_name\n",
      "  Downloading package_name-0.1.tar.gz (782 bytes)\n",
      "Building wheels for collected packages: package-name\n",
      "  Building wheel for package-name (setup.py) ... \u001b[?25ldone\n",
      "\u001b[?25h  Created wheel for package-name: filename=package_name-0.1-py3-none-any.whl size=1254 sha256=1ddc72d361ff3e3e853be0fd14e5a04f40875e0e5a0eaf2418bfcc7bbdfcc0ee\n",
      "  Stored in directory: /Users/amanurrahman/Library/Caches/pip/wheels/67/e6/c3/cbfcab244d830378592564f5e46da23a8aad979c4a958b401a\n",
      "Successfully built package-name\n",
      "Installing collected packages: package-name\n",
      "Successfully installed package-name-0.1\n"
     ]
    }
   ],
   "source": [
    "!pip install --upgrade package_name"
   ]
  },
  {
   "cell_type": "code",
   "execution_count": 5,
   "id": "7bda904b-0b3b-4b1e-9a3d-4c4aa9b3d3d3",
   "metadata": {
    "chartConfig": {
     "bar": {
      "hasRoundedCorners": true,
      "stacked": false
     },
     "type": "bar",
     "version": "v1"
    },
    "customType": "sql",
    "dataFrameVariableName": "df",
    "executionTime": 2620,
    "initial": false,
    "integrationId": "89e17161-a224-4a8a-846b-0adc0fe7a4b1",
    "lastSuccessfullyExecutedCode": "WITH top_industries AS\n(\n    SELECT i.industry, \n        COUNT(i.*)\n    FROM industries AS i\n    INNER JOIN dates AS d\n        ON i.company_id = d.company_id\n    WHERE EXTRACT(year FROM d.date_joined) in ('2019', '2020', '2021')\n    GROUP BY industry\n    ORDER BY count DESC\n    LIMIT 3\n),\n\nyearly_rankings AS \n(\n    SELECT COUNT(i.*) AS num_unicorns,\n        i.industry,\n        EXTRACT(year FROM d.date_joined) AS year,\n        AVG(f.valuation) AS average_valuation\n    FROM industries AS i\n    INNER JOIN dates AS d\n        ON i.company_id = d.company_id\n    INNER JOIN funding AS f\n        ON d.company_id = f.company_id\n    GROUP BY industry, year\n)\n\nSELECT industry,\n    year,\n    num_unicorns,\n    ROUND(AVG(average_valuation / 1000000000), 2) AS average_valuation_billions\nFROM yearly_rankings\nWHERE year in ('2019', '2020', '2021')\n    AND industry in (SELECT industry\n                    FROM top_industries)\nGROUP BY industry, num_unicorns, year, average_valuation\nORDER BY industry, year DESC\n",
    "visualizeDataframe": false
   },
   "outputs": [
    {
     "ename": "SyntaxError",
     "evalue": "invalid syntax (662483798.py, line 1)",
     "output_type": "error",
     "traceback": [
      "\u001b[0;36m  Input \u001b[0;32mIn [5]\u001b[0;36m\u001b[0m\n\u001b[0;31m    WITH top_industries AS\u001b[0m\n\u001b[0m         ^\u001b[0m\n\u001b[0;31mSyntaxError\u001b[0m\u001b[0;31m:\u001b[0m invalid syntax\n"
     ]
    }
   ],
   "source": [
    "WITH top_industries AS\n",
    "(\n",
    "    SELECT i.industry, \n",
    "        COUNT(i.*)\n",
    "    FROM industries AS i\n",
    "    INNER JOIN dates AS d\n",
    "        ON i.company_id = d.company_id\n",
    "    WHERE EXTRACT(year FROM d.date_joined) in ('2019', '2020', '2021')\n",
    "    GROUP BY industry\n",
    "    ORDER BY count DESC\n",
    "    LIMIT 3\n",
    "),\n",
    "\n",
    "yearly_rankings AS \n",
    "(\n",
    "    SELECT COUNT(i.*) AS num_unicorns,\n",
    "        i.industry,\n",
    "        EXTRACT(year FROM d.date_joined) AS year,\n",
    "        AVG(f.valuation) AS average_valuation\n",
    "    FROM industries AS i\n",
    "    INNER JOIN dates AS d\n",
    "        ON i.company_id = d.company_id\n",
    "    INNER JOIN funding AS f\n",
    "        ON d.company_id = f.company_id\n",
    "    GROUP BY industry, year\n",
    ")\n",
    "\n",
    "SELECT industry,\n",
    "    year,\n",
    "    num_unicorns,\n",
    "    ROUND(AVG(average_valuation / 1000000000), 2) AS average_valuation_billions\n",
    "FROM yearly_rankings\n",
    "WHERE year in ('2019', '2020', '2021')\n",
    "    AND industry in (SELECT industry\n",
    "                    FROM top_industries)\n",
    "GROUP BY industry, num_unicorns, year, average_valuation\n",
    "ORDER BY industry, year DESC\n"
   ]
  },
  {
   "cell_type": "code",
   "execution_count": null,
   "id": "39ea74d1",
   "metadata": {},
   "outputs": [],
   "source": []
  }
 ],
 "metadata": {
  "colab": {
   "name": "Welcome to DataCamp Workspaces.ipynb",
   "provenance": []
  },
  "editor": "DataCamp Workspace",
  "kernelspec": {
   "display_name": "Python 3 (ipykernel)",
   "language": "python",
   "name": "python3"
  },
  "language_info": {
   "codemirror_mode": {
    "name": "ipython",
    "version": 3
   },
   "file_extension": ".py",
   "mimetype": "text/x-python",
   "name": "python",
   "nbconvert_exporter": "python",
   "pygments_lexer": "ipython3",
   "version": "3.9.12"
  }
 },
 "nbformat": 4,
 "nbformat_minor": 5
}
